# for Mathematical and Dataframe Operations
import numpy as np
import pandas as pd

# for Data Visualizations
import seaborn as sns
import matplotlib.pyplot as plt

# setting up the background style
plt.style.use('fivethirtyeight')

data.shape

# lets check the head of the dataset
data.head()

data[['Impressions','Clicks','Spent',
      'Total_Conversion','Approved_Conversion']].describe()

## lets analyze the Campaigns

print("Number of Unique Ads :", data['ad_id'].nunique())
print("Number of Campaigns :", data['xyz_campaign_id'].nunique())
print("Number of Facebook Campaigns :", data['fb_campaign_id'].nunique())
print("Number of Interest Groups :", data['interest'].nunique())
print("Number of Age Groups :", data['age'].nunique())


data = data.drop(['ad_id', 'fb_campaign_id'], axis = 1)

# now lets check the column names again to make sure above columns are removed
data.columns



data.isnull().sum()


# We can see that there are Only Three Campaigns run by the Company
# Lets check More details about the Campaigns
data['xyz_campaign_id'].value_counts()


# as we can see that the Campaign names are Numerical, Let's give it more Comprehensive Name for better understanding

data['xyz_campaign_id'] = data['xyz_campaign_id'].replace((1178, 936, 916),('campaign_c','campaign_b','campaign_a'))

# lets check the campaign names again
data['xyz_campaign_id'].value_counts()



# lets Compare the Conversion, Expense and Visibility among the Campaigns

data[['xyz_campaign_id','Approved_Conversion', 'Spent','Impressions']].groupby(['xyz_campaign_id'],
         as_index = False).agg('mean').rename(columns = {'xyz_campaign_id': 'Campaign',
                             'Approved_Conversion': 'Average Conversion',
                             'Spent': 'Average Expense', 
                        'Impressions':'Average Visibility'}).style.background_gradient(cmap = 'Wistia')


data['ClickThroughRate'] = ((data['Clicks']/data['Impressions'])*100)
data['CostPerClick'] = (data['Spent']/data['Clicks'])
data['ConversionRate'] = (data['Approved_Conversion']/data['Total_Conversion'])
data['CostPerConversion'] = (data['Spent']/data['Approved_Conversion'])


data['ConversionValue'] = (data['Approved_Conversion']*100)
data['ROAS'] = round(data['ConversionValue']/data['Spent'], 2)
data['CostPerMile'] = round((data['Spent']/data['Impressions'])*1000, 2)


data = data.replace([np.inf, -np.inf], np.nan).dropna(axis=0)
print("Shape of the Data After Removing Nans and Infs:", data.shape)




data[['xyz_campaign_id', 'ClickThroughRate', 'CostPerClick', 'ConversionRate',
     'ConversionValue', 'CostPerMile', 'ROAS']].groupby(['xyz_campaign_id'],
                                   as_index = False).agg('mean').rename(columns = {'xyz_campaign_id': 'Campaign',
                                                    'ClickThroughRate': 'Average CTR', 
                                                'CostPerClick': 'Average Cost/Click',
                                            'ConversionRate': 'Average ConversionRate'}).style.background_gradient(cmap = 'Wistia')



plt.rcParams['figure.figsize'] = (14, 4)

plt.subplot(1, 2, 1)
sns.barplot(data['gender'], data['ROAS'], 
           hue = data['xyz_campaign_id'],
           palette = 'cool')
plt.xlabel(' ')

plt.subplot(1, 2, 2)
sns.barplot(data['age'], data['ROAS'], 
           hue = data['xyz_campaign_id'],
           palette = 'cool')
plt.xlabel(' ')

plt.suptitle('Impact of Age and Gender on ROAS', fontsize = 20)
plt.show()





plt.rcParams['figure.figsize'] = (18, 3)
sns.barplot(data['interest'], data['ROAS'])
plt.title('Interest on Interest Groups on ROAS', fontsize = 20)
plt.xlabel('\n Different Interest Groups Listed on the Facebook Account of the Users\n')
plt.show()



data[['interest', 'ROAS']].sort_values(by = 'ROAS',
                            ascending = False).head(5).style.background_gradient(cmap = 'cool')



plt.rcParams['figure.figsize'] = (8, 4)
sns.boxplot(data['xyz_campaign_id'], data['CostPerMile'],
           palette = 'winter')
plt.title('Campaigns VS Brand Awareness')
plt.xlabel(' ')
plt.show()





plt.rcParams['figure.figsize'] = (15, 4)
sns.barplot(data['age'], data['CostPerMile'], 
           hue = data['gender'],
           palette = 'cool')
plt.xlabel('Age Groups')
plt.title('IAnalyzing the groups to focus on Brand Awareness')
plt.show()


plt.rcParams['figure.figsize'] = (15, 4)
sns.scatterplot(data['Impressions'], data['Clicks'], 
           color = 'black')
plt.title('Relationship between Clicks and Impressions\n', fontsize = 20)
plt.show()


# Lets Categorize the Clicks and Check the Impact on Impressions

# lets create a function to categorize the Clicks Column
def cat(x):
    if x <= 100:
        return '0-100'
    elif x <= 200:
        return '100-200'
    elif x <= 300:
        return '200-300'
    else:
        return '300+'
        
# lets apply the above function on clicks
data['Clicks'] = data['Clicks'].apply(cat)

# lets understand the Impact of Impressions on Clicks
data[['Impressions','Clicks']].groupby('Clicks').agg(['mean']).style.background_gradient(cmap = 'Wistia')



# lets Correlation between all the Factors

plt.rcParams['figure.figsize'] = (17, 6)
sns.heatmap(data.corr(), 
            annot = True, linewidths = 2.0,
           cmap = 'summer')
plt.title('Correlation Heatmap for the KPIs\n', fontsize = 20)
plt.show()
















